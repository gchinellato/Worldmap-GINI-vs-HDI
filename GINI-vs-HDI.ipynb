{
 "cells": [
  {
   "cell_type": "code",
   "execution_count": null,
   "metadata": {},
   "outputs": [],
   "source": [
    "'''\n",
    "Sources:\n",
    "HDI\n",
    "- Human Development Index (HDI).csv:\n",
    "http://hdr.undp.org/en/data\n",
    "- human-development-index-escosura.csv:\n",
    "https://ourworldindata.org/human-development-index\n",
    "\n",
    "GINI\n",
    "- economic-inequality-gini-index.csv:\n",
    "https://ourworldindata.org/grapher/economic-inequality-gini-index\n",
    "\n",
    "shapefile\n",
    "- Countries_WGS84.shp:\n",
    "https://hub.arcgis.com/datasets/a21fdb46d23e4ef896f31475217cbb08_1\n",
    "\n",
    "https://www.naturalearthdata.com/downloads/10m-cultural-vectors/\n",
    "'''"
   ]
  },
  {
   "cell_type": "markdown",
   "metadata": {},
   "source": [
    "# GINI Index"
   ]
  },
  {
   "cell_type": "code",
   "execution_count": null,
   "metadata": {},
   "outputs": [],
   "source": [
    "import pandas as pd\n",
    "import geopandas as gpd\n",
    "import numpy as np"
   ]
  },
  {
   "cell_type": "code",
   "execution_count": null,
   "metadata": {},
   "outputs": [],
   "source": [
    "df_map = gpd.read_file('./geo/Countries_WGS84/Countries_WGS84.shp')\n",
    "df_map.columns = ['country_code', 'country', 'geometry']\n",
    "df_map.drop(df_map.index[14], inplace=True) #Drop row corresponding to 'Antarctica'"
   ]
  },
  {
   "cell_type": "code",
   "execution_count": null,
   "metadata": {},
   "outputs": [],
   "source": [
    "df_gini = pd.read_csv('./data/GINI/economic-inequality-gini-index.csv')"
   ]
  },
  {
   "cell_type": "code",
   "execution_count": null,
   "metadata": {},
   "outputs": [],
   "source": [
    "df_gini_pivot = df_gini.pivot_table(index=['Entity', 'Code'], columns='Year', values='GINI index (World Bank estimate)').reset_index()\n",
    "df_gini_pivot = df_gini_pivot.fillna(method='bfill', axis=1)\n",
    "df_gini_pivot = df_gini_pivot.fillna(method='ffill', axis=1)\n",
    "#df_gini_pivot.fillna(0, inplace=True)\n",
    "df_gini_pivot"
   ]
  },
  {
   "cell_type": "code",
   "execution_count": null,
   "metadata": {},
   "outputs": [],
   "source": [
    "df_gini_pivot[df_gini_pivot['Entity'] == 'Denmark'] "
   ]
  },
  {
   "cell_type": "code",
   "execution_count": null,
   "metadata": {},
   "outputs": [],
   "source": [
    "df_gini_pivot[df_gini_pivot['Entity'] == 'Brazil'] "
   ]
  },
  {
   "cell_type": "code",
   "execution_count": null,
   "metadata": {},
   "outputs": [],
   "source": [
    "replace_values  = {\n",
    "     'Myanmar':'Myanmar (Burma)',\n",
    "     'Saint Lucia':'St. Lucia',\n",
    "     'Tanzania':'Tanzania, United Republic of'\n",
    "    }\n",
    "\n",
    "df_gini_pivot.replace({'Entity': replace_values}, inplace=True)"
   ]
  },
  {
   "cell_type": "code",
   "execution_count": null,
   "metadata": {},
   "outputs": [],
   "source": [
    "YEAR = 2011\n",
    "gpd_gini = pd.merge(df_map, df_gini_pivot[['Entity', YEAR]], left_on='country', right_on='Entity', how = 'left')\n",
    "gpd_gini[[YEAR]] = gpd_gini[[YEAR]].fillna(0)"
   ]
  },
  {
   "cell_type": "code",
   "execution_count": null,
   "metadata": {},
   "outputs": [],
   "source": [
    "import json\n",
    "from bokeh.io import output_notebook, show, output_file\n",
    "from bokeh.models import LogColorMapper, LinearColorMapper, ColorBar, LogTicker, GeoJSONDataSource\n",
    "from bokeh.palettes import brewer, d3, all_palettes\n",
    "from bokeh.plotting import figure"
   ]
  },
  {
   "cell_type": "code",
   "execution_count": null,
   "metadata": {},
   "outputs": [],
   "source": [
    "geosource = GeoJSONDataSource(geojson = gpd_gini.to_json())"
   ]
  },
  {
   "cell_type": "code",
   "execution_count": null,
   "metadata": {},
   "outputs": [],
   "source": [
    "#Define a sequential multi-hue color palette.\n",
    "palette = all_palettes['Viridis'][8]\n",
    "#Reverse color order\n",
    "palette = palette[::-1]\n",
    "\n",
    "color_mapper = LinearColorMapper(palette=palette, low = 0, high = gpd_gini[YEAR].max())\n",
    "\n",
    "TOOLS = \"pan,wheel_zoom,reset,hover,save\"\n",
    "\n",
    "tick_labels = {'0': '0%', '5': '5%', '10':'10%', '15':'15%', '20':'20%', '25':'25%', '30':'30%','35':'35%', '40': '>40%'}\n",
    "\n",
    "color_bar = ColorBar(color_mapper=color_mapper,\n",
    "                     label_standoff=8,\n",
    "                     width = 500,\n",
    "                     height = 20,\n",
    "                     border_line_color=None,\n",
    "                     location = (0,0), \n",
    "                     orientation = 'horizontal')\n",
    "                     #major_label_overrides = tick_labels)\n",
    "\n",
    "p = figure(\n",
    "    title='GINI Index, ' + str(YEAR), \n",
    "    tools=TOOLS,\n",
    "    plot_height = 480,\n",
    "    plot_width = 720,\n",
    "    x_axis_location=None,\n",
    "    y_axis_location=None,\n",
    "    tooltips=[\n",
    "        (\"Country\", \"@country\"), (\"GINI\", \"@\"+str(YEAR))\n",
    "    ])\n",
    "p.grid.grid_line_color = None\n",
    "p.hover.point_policy = \"follow_mouse\"\n",
    "\n",
    "p.patches('xs','ys', source=geosource,\n",
    "          fill_color={'field': str(YEAR), 'transform': color_mapper},\n",
    "          fill_alpha=0.8, line_color=\"black\", line_width=0.2)\n",
    "\n",
    "p.add_layout(color_bar, 'below')\n",
    "\n",
    "output_notebook()\n",
    "\n",
    "show(p)"
   ]
  },
  {
   "cell_type": "markdown",
   "metadata": {},
   "source": [
    "# HDI "
   ]
  },
  {
   "cell_type": "code",
   "execution_count": null,
   "metadata": {},
   "outputs": [],
   "source": [
    "df_hdi = pd.read_csv('./data/HDI/Human Development Index (HDI).csv', sep=',', skiprows=1)\n",
    "df_hdi.dropna(axis=1, how='all', inplace=True) # drop empty columns\n",
    "df_hdi.drop(df_hdi.index[189:], inplace=True) # drop last part of the table\n",
    "df_hdi.replace('..', 0, inplace=True) # replace null values to zero\n",
    "df_hdi.iloc[:,2:] = df_hdi.iloc[:,2:].astype(float)"
   ]
  },
  {
   "cell_type": "code",
   "execution_count": null,
   "metadata": {},
   "outputs": [],
   "source": [
    "replace_values  = {\n",
    "     'Bahamas':'Bahamas, The',\n",
    "     'Belarus':'Byelarus',\n",
    "     'Bolivia (Plurinational State of)':'Bolivia',\n",
    "     'Brunei Darussalam':'Brunei',\n",
    "     'Cabo Verde':'Cape Verde',\n",
    "     'Czechia':'Czech Republic',\n",
    "     'Gambia':'Gambia, The',\n",
    "     'Iran (Islamic Republic of)':'Iran',\n",
    "     'Korea (Republic of)':'South Korea',\n",
    "     'Micronesia (Federated States of)':'Federated States of Micronesia',\n",
    "     'Moldova (Republic of)':'Moldova',\n",
    "     'Myanmar':'Myanmar (Burma)',\n",
    "     'North Macedonia':'Macedonia',\n",
    "     'Palau':'Pacific Islands (Palau)',\n",
    "     'Russian Federation':'Russia',\n",
    "     'Saint Kitts and Nevis':'St. Kitts and Nevis',\n",
    "     'Saint Lucia':'St. Lucia',\n",
    "     'Saint Vincent and the Grenadines':'St. Vincent and the Grenadines',\n",
    "     'Samoa':'Western Samoa',\n",
    "     'Syrian Arab Republic':'Syria',\n",
    "     'Tanzania (United Republic of)':'Tanzania, United Republic of',\n",
    "     'Venezuela (Bolivarian Republic of)':'Venezuela',\n",
    "     'Viet Nam':'Vietnam'\n",
    "    }\n",
    "\n",
    "df_hdi.replace({'Country': replace_values}, inplace=True)"
   ]
  },
  {
   "cell_type": "code",
   "execution_count": null,
   "metadata": {},
   "outputs": [],
   "source": [
    "df_hdi[df_hdi['Country'] == 'Denmark'] "
   ]
  },
  {
   "cell_type": "code",
   "execution_count": null,
   "metadata": {},
   "outputs": [],
   "source": [
    "df_hdi[df_hdi['Country'] == 'Brazil'] "
   ]
  },
  {
   "cell_type": "code",
   "execution_count": null,
   "metadata": {},
   "outputs": [],
   "source": [
    "YEAR = str(YEAR)\n",
    "gpd_hdi = pd.merge(df_map, df_hdi[['Country', YEAR]], left_on='country', right_on='Country', how = 'left')\n",
    "gpd_hdi[[YEAR]] = gpd_hdi[[YEAR]].fillna(0)"
   ]
  },
  {
   "cell_type": "code",
   "execution_count": null,
   "metadata": {},
   "outputs": [],
   "source": [
    "geosource = GeoJSONDataSource(geojson = gpd_hdi.to_json())"
   ]
  },
  {
   "cell_type": "code",
   "execution_count": null,
   "metadata": {},
   "outputs": [],
   "source": [
    "#Define a sequential multi-hue color palette.\n",
    "palette = all_palettes['Viridis'][8]\n",
    "#Reverse color order \n",
    "#palette = palette[::-1]\n",
    "\n",
    "color_mapper = LinearColorMapper(palette=palette, low = 0, high = 1)\n",
    "\n",
    "TOOLS = \"pan,wheel_zoom,reset,hover,save\"\n",
    "\n",
    "tick_labels = {'0': '0%', '5': '5%', '10':'10%', '15':'15%', '20':'20%', '25':'25%', '30':'30%','35':'35%', '40': '>40%'}\n",
    "\n",
    "color_bar = ColorBar(color_mapper=color_mapper,\n",
    "                     label_standoff=8,\n",
    "                     width = 500,\n",
    "                     height = 20,\n",
    "                     border_line_color=None,\n",
    "                     location = (0,0), \n",
    "                     orientation = 'horizontal')\n",
    "                     #major_label_overrides = tick_labels)\n",
    "\n",
    "p = figure(\n",
    "    title='Human Development Index, ' + YEAR, \n",
    "    tools=TOOLS,\n",
    "    plot_height = 480,\n",
    "    plot_width = 720,\n",
    "    x_axis_location=None,\n",
    "    y_axis_location=None,\n",
    "    tooltips=[\n",
    "        (\"Country\", \"@country\"), (\"HDI\", \"@\"+YEAR)\n",
    "    ])\n",
    "p.grid.grid_line_color = None\n",
    "p.hover.point_policy = \"follow_mouse\"\n",
    "\n",
    "p.patches('xs','ys', source=geosource,\n",
    "          fill_color={'field': YEAR, 'transform': color_mapper},\n",
    "          fill_alpha=0.8, line_color=\"black\", line_width=0.1)\n",
    "\n",
    "p.add_layout(color_bar, 'below')\n",
    "\n",
    "output_notebook()\n",
    "\n",
    "show(p)"
   ]
  },
  {
   "cell_type": "markdown",
   "metadata": {},
   "source": [
    "# Normalising Data "
   ]
  },
  {
   "cell_type": "code",
   "execution_count": null,
   "metadata": {},
   "outputs": [],
   "source": [
    "YEAR = int(YEAR)"
   ]
  },
  {
   "cell_type": "code",
   "execution_count": null,
   "metadata": {},
   "outputs": [],
   "source": [
    "# GINI normalized\n",
    "df_gini_pivot['norm_'+str(YEAR)] = ((df_gini_pivot[YEAR]-df_gini_pivot[YEAR].min())/(df_gini_pivot[YEAR].max()-df_gini_pivot[YEAR].min()))"
   ]
  },
  {
   "cell_type": "code",
   "execution_count": null,
   "metadata": {},
   "outputs": [],
   "source": [
    "# Inverted GINI\n",
    "df_gini_pivot['inv_'+str(YEAR)] = df_gini_pivot.loc[:,'norm_'+str(YEAR)].apply(lambda x : 1-x)"
   ]
  },
  {
   "cell_type": "code",
   "execution_count": null,
   "metadata": {},
   "outputs": [],
   "source": [
    "# HDI normalized\n",
    "df_hdi['norm_'+str(YEAR)]=((df_hdi[str(YEAR)]-df_hdi[str(YEAR)].min())/(df_hdi[str(YEAR)].max()-df_hdi[str(YEAR)].min()))"
   ]
  },
  {
   "cell_type": "markdown",
   "metadata": {},
   "source": [
    "# Correlation"
   ]
  },
  {
   "cell_type": "code",
   "execution_count": null,
   "metadata": {},
   "outputs": [],
   "source": [
    "df_corr = pd.merge(df_gini_pivot[['Entity', 'inv_'+str(YEAR)]], df_hdi[['Country', 'norm_'+str(YEAR)]], left_on='Entity', right_on='Country')\n",
    "df_corr['corr'] = df_corr['inv_'+str(YEAR)] - df_corr['norm_'+str(YEAR)]"
   ]
  },
  {
   "cell_type": "code",
   "execution_count": null,
   "metadata": {},
   "outputs": [],
   "source": [
    "df_corr"
   ]
  },
  {
   "cell_type": "code",
   "execution_count": null,
   "metadata": {},
   "outputs": [],
   "source": [
    "gpd_corr = pd.merge(df_map, df_corr[['Country', 'corr']], left_on='country', right_on='Country', how = 'left')\n",
    "gpd_corr[['corr']] = gpd_corr[['corr']].fillna(0)"
   ]
  },
  {
   "cell_type": "code",
   "execution_count": null,
   "metadata": {},
   "outputs": [],
   "source": [
    "geosource = GeoJSONDataSource(geojson = gpd_corr.to_json())"
   ]
  },
  {
   "cell_type": "code",
   "execution_count": null,
   "metadata": {},
   "outputs": [],
   "source": [
    "#Define a sequential multi-hue color palette.\n",
    "palette = all_palettes['Viridis'][8]\n",
    "#Reverse color order \n",
    "#palette = palette[::-1]\n",
    "\n",
    "color_mapper = LinearColorMapper(palette=palette, low = -1, high = 1)\n",
    "\n",
    "TOOLS = \"pan,wheel_zoom,reset,hover,save\"\n",
    "\n",
    "tick_labels = {'0': '0%', '5': '5%', '10':'10%', '15':'15%', '20':'20%', '25':'25%', '30':'30%','35':'35%', '40': '>40%'}\n",
    "\n",
    "color_bar = ColorBar(color_mapper=color_mapper,\n",
    "                     label_standoff=8,\n",
    "                     width = 500,\n",
    "                     height = 20,\n",
    "                     border_line_color=None,\n",
    "                     location = (0,0), \n",
    "                     orientation = 'horizontal')\n",
    "                     #major_label_overrides = tick_labels)\n",
    "\n",
    "p = figure(\n",
    "    title='GINI Index vs Human Development Index, ' + str(YEAR), \n",
    "    tools=TOOLS,\n",
    "    plot_height = 480,\n",
    "    plot_width = 720,\n",
    "    x_axis_location=None,\n",
    "    y_axis_location=None,\n",
    "    tooltips=[\n",
    "        (\"Country\", \"@country\"), (\"Correl\", \"@corr\")\n",
    "    ])\n",
    "p.grid.grid_line_color = None\n",
    "p.hover.point_policy = \"follow_mouse\"\n",
    "\n",
    "p.patches('xs','ys', source=geosource,\n",
    "          fill_color={'field': 'corr', 'transform': color_mapper},\n",
    "          fill_alpha=0.8, line_color=\"black\", line_width=0.1)\n",
    "\n",
    "p.add_layout(color_bar, 'below')\n",
    "\n",
    "output_notebook()\n",
    "\n",
    "show(p)"
   ]
  },
  {
   "cell_type": "code",
   "execution_count": null,
   "metadata": {},
   "outputs": [],
   "source": []
  }
 ],
 "metadata": {
  "kernelspec": {
   "display_name": "Python 3",
   "language": "python",
   "name": "python3"
  },
  "language_info": {
   "codemirror_mode": {
    "name": "ipython",
    "version": 3
   },
   "file_extension": ".py",
   "mimetype": "text/x-python",
   "name": "python",
   "nbconvert_exporter": "python",
   "pygments_lexer": "ipython3",
   "version": "3.7.4"
  }
 },
 "nbformat": 4,
 "nbformat_minor": 2
}
